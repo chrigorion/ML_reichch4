{
 "cells": [
  {
   "cell_type": "markdown",
   "id": "07ae0ad9-f22c-4783-b782-b5d5358132b6",
   "metadata": {},
   "source": [
    "# **Projektarbeit: Titel**\n",
    "\n",
    "**Kurs:** Maschinelles Lernen (MaLe-AD23-HS24)  \n",
    "**Autor/in:** Maxine Muster  \n",
    "**Datum:** TT.MM.JJJJ\n"
   ]
  },
  {
   "cell_type": "markdown",
   "id": "4ff89746",
   "metadata": {},
   "source": [
    "---\n",
    "\n",
    "## **Einführung**\n",
    "\n",
    "<span style=\"color:#2D8FF3;font-style:italic\">\n",
    "<b>Anleitung:</b>\n",
    "Hier folgt eine kurze Zusammenfassung des Projektinhalts in wenigen Sätzen.\n",
    "\n",
    "<ul style=\"color:#2D8FF3\">\n",
    "    <li>Welches Problem wird gelöst (ev. mit ein bisschen Kontext)?</li>\n",
    "    <li>Welche Daten werden verwendet?</li>\n",
    "    <li>Welches ist die Zielvariable?</li>\n",
    "    <li>Welche Features werden verwendet?</li>\n",
    "    <li>...andere nützliche Informationen\n",
    "</ul>\n",
    "\n",
    "Die Zielgruppe eures Projekts sind andere Studierende.<br>\n",
    "Verwendet bitte eine knappe aber präzise Sprache.\n",
    "\n",
    "<b>Markdown:</b>\n",
    "Folgende Tutorials helfen vielleicht weiter falls ihr euch noch nicht so \n",
    "gut auskennt mit Markdown:\n",
    "<ul>\n",
    "    <li><a href=\"https://www.writethedocs.org/guide/writing/markdown/\">Kurze Überisicht</a></li>\n",
    "    <li><a href=https://docs.github.com/en/get-started/writing-on-github/getting-started-with-writing-and-formatting-on-github/basic-writing-and-formatting-syntax\">Markdown à la GitHub</a></li>\n",
    "    <li><a href=\"https://www.datacamp.com/tutorial/markdown-in-jupyter-notebook\">Detailierteres Tutorial</a></li>\n",
    "</ul>\n",
    "\n",
    "Übrigens: Man kann in Markdown Zellen einfaches HTML verwenden (erkennbar an \n",
    "den \\<key\\>...\\</key\\> Blöcken) um etwas mehr Kontrolle über die Darstellung \n",
    "zu haben. Ich verwende solche. HTML-Elemente um die Anleitung visuell \n",
    "hervorzuheben. Für euch ist das aber keine Pflicht!\n",
    "</i>\n",
    "\n",
    "</span>\n",
    "\n"
   ]
  },
  {
   "cell_type": "markdown",
   "id": "3ea206c6",
   "metadata": {},
   "source": [
    "---\n",
    "## **Setup**\n",
    "\n",
    "<span style=\"color:#2D8FF3;font-style:italic\">\n",
    "<b>Anleitung:</b>\n",
    "In diesem Abschnitt geht es darum, das Jupyter Notebook zu \n",
    "konfigurieren. Ihr braucht hier nicht viel zu machen.\n",
    "</span>\n"
   ]
  },
  {
   "cell_type": "code",
   "execution_count": null,
   "id": "afaf04a7",
   "metadata": {},
   "outputs": [],
   "source": [
    "# Basic imports\n",
    "import numpy as np\n",
    "import seaborn as sns\n",
    "import matplotlib.pyplot as plt\n",
    "from sklearn.datasets import load_iris\n",
    "\n",
    "# Enable vectorized graphics\n",
    "%config InlineBackend.figure_formats = [\"svg\"]\n",
    "\n",
    "# Setup plotting\n",
    "PALETTE = [ (0.341, 0.648, 0.962, 1.0), \n",
    "            (0.990, 0.476, 0.494, 1.0), \n",
    "            (0.281, 0.749, 0.463, 1.0), \n",
    "            (0.629, 0.802, 0.978, 1.0), \n",
    "            (0.994, 0.705, 0.715, 1.0), \n",
    "            (0.595, 0.858, 0.698, 1.0), \n",
    "            (0.876, 0.934, 0.992, 1.0), \n",
    "            (0.998, 0.901, 0.905, 1.0), \n",
    "            (0.865, 0.952, 0.899, 1.0) ]\n",
    "\n",
    "# For more color palettes, see here:\n",
    "# https://seaborn.pydata.org/tutorial/color_palettes.html\n",
    "# https://matplotlib.org/stable/users/explain/colors/colormaps.html\n",
    "#PALETTE = sns.color_palette(\"husl\", 8)\n",
    "#PALETTE = sns.color_palette(\"viridis\", 10)\n",
    "\n",
    "print(\"Our color palette:\")\n",
    "sns.palplot(PALETTE, size=0.5)\n",
    "\n",
    "sns.set_style(\"whitegrid\")\n",
    "plt.rcParams[\"axes.prop_cycle\"] = plt.cycler(color=PALETTE)\n",
    "plt.rcParams[\"figure.dpi\"] = 300    # High-res figures (DPI)\n",
    "plt.rcParams[\"pdf.fonttype\"] = 42   # Editable text in PDF"
   ]
  },
  {
   "cell_type": "markdown",
   "id": "757d519f",
   "metadata": {},
   "source": [
    "---\n",
    "## **Präprozessierung**\n",
    "\n",
    "<span style=\"color:#2D8FF3;font-style:italic\">\n",
    "<b>Anleitung:</b>\n",
    "In diesem Abschnitt werden die Daten geladen und aufbereitet.<br>\n",
    "</span>\n"
   ]
  },
  {
   "cell_type": "code",
   "execution_count": 15,
   "id": "3ee17cd8-0e36-4adb-8227-3c028ec806d7",
   "metadata": {},
   "outputs": [],
   "source": [
    "# Code to load and preprocess the data\n",
    "..."
   ]
  },
  {
   "cell_type": "markdown",
   "id": "c15e64d8",
   "metadata": {},
   "source": [
    "---\n",
    "\n",
    "## **Explorative Datenanalyse**\n",
    "\n",
    "<span style=\"color:#2D8FF3;font-style:italic\">\n",
    "<b>Anleitung:</b>\n",
    "Hier untersucht ihr eure Daten ein erstes Mal, visualisiert sie und versucht, Muster zu erkennen.\n",
    "Zeigt hier, dass ihr neugierig seid und euch mit den Daten auseinandersetzt.\n",
    "</span>\n",
    "\n"
   ]
  },
  {
   "cell_type": "code",
   "execution_count": null,
   "id": "8a69cdae",
   "metadata": {},
   "outputs": [],
   "source": [
    "# Code to perform the exploratory data analysis\n",
    "..."
   ]
  },
  {
   "cell_type": "markdown",
   "id": "9250f98f",
   "metadata": {},
   "source": [
    "---\n",
    "\n",
    "## **Feature Engineering und Dimensionalitätsreduktion**\n",
    "\n",
    "<span style=\"color:#2D8FF3;font-style:italic\">\n",
    "<b>Anleitung:</b>\n",
    "Beim Feature Engineering versucht ihr aus den verfügbaren Daten nützliche \n",
    "neue Features zu generieren. Falls ihr bereits viele Prädiktoren habt, versucht \n",
    "ihr die Dimensionalität des Problems mittels eines geeigneten Verfahrens zu reduzieren.\n",
    "Je nach Datensatz und Problem fällt dieser Abschnitt länger oder kürzer aus.\n",
    "</span>\n",
    "\n"
   ]
  },
  {
   "cell_type": "code",
   "execution_count": null,
   "id": "85083e58",
   "metadata": {},
   "outputs": [],
   "source": [
    "# Code to perform the feature engineering\n",
    "..."
   ]
  },
  {
   "cell_type": "markdown",
   "id": "44bfdc72",
   "metadata": {},
   "source": [
    "---\n",
    "\n",
    "## **Modellieren, Trainieren und Validieren**\n",
    "\n",
    "<span style=\"color:#2D8FF3;font-style:italic\">\n",
    "<b>Anleitung:</b>\n",
    "Es folgt der für diese Projektarbeit zentrale Abschnitt. Hier trainiert \n",
    "Datenmodelle, und validiert diese. Folgende Punkte sind zu beachten:\n",
    "\n",
    "<ul>\n",
    "    <li>Es sollen mindestens <u>zwei verschiedene Datenmodelle</u> trainiert und verglichen werden.</li>\n",
    "    <li>Die Hyperparameter sollen mittels <u>Kreuzvalidierung</u> ermittelt werden.</li>\n",
    "    <li>Die Vorhersagegenauigkeit der Modelle müssen mit einem <u>separaten Testdatensatz</u> abgeschätzt werden.</li>\n",
    "    <li>Die Resultate der Trainings- und Testphasen sollen <u>visualisiert</u> werden (z.B. mittels ROC-Kurve oder Residuen-Plots).</li>\n",
    "    <li>Bonuspunkte gibt es, falls\n",
    "        <ul style=\"list-style-type:  circle;\">\n",
    "            <li>der Generalisierungsfehler des Modells robust ermittelt wird (durch wiederholtes Validieren, so dass die Kennzahlen für Vorhersagegenauigkeit als \"µ ± σ\" angeben werden kann).</li>\n",
    "            <li>die Vorhersagefehler der Modelle auf Muster untersucht werden.</li>\n",
    "            <li>falls eine Standardmodellierung basierend auf Beobachtungen verfeinert und weiterentwickelt wird.</li>\n",
    "        </ul></li>\n",
    "</ul>\n",
    "\n",
    "Wir empfehlen, die verschiedenen Modelle in scikit-learn <a href=https://scikit-learn.org/1.5/modules/compose.html>als Pipelines</a> aufzubauen.\n",
    "</span>\n"
   ]
  },
  {
   "cell_type": "code",
   "execution_count": null,
   "id": "6d85325f",
   "metadata": {},
   "outputs": [],
   "source": [
    "# Code to perform the model training and validation\n",
    "..."
   ]
  },
  {
   "cell_type": "markdown",
   "id": "a1638d63",
   "metadata": {},
   "source": [
    "---\n",
    "\n",
    "## **Diskussion und Fazit**\n",
    "\n",
    "<span style=\"color:#2D8FF3;font-style:italic\">\n",
    "<b>Anleitung:</b>\n",
    "Diskutiert hier <u>kurz</u> eure Erkenntnisse aus eurer Projektarbeit. Folgende Punkte müsst ihr addressieren:\n",
    "\n",
    "<ul>\n",
    "    <li>Wie interpretiert eure Ergebnisse:\n",
    "        <ul style=\"list-style-type:  circle;\">\n",
    "            <li>Welches Datenmodell funktioniert am besten?</li>\n",
    "            <li>Wie gut löst es das formulierte Problem?</li>\n",
    "            <li>Entsprechen die Ergebnisse euren Erwartungen?</li>\n",
    "        </ul></li>\n",
    "    <li>Habt ihr Verbesserungsvorschläge für eure Datenmodelle?</li>\n",
    "    <li>Beschreibt eure Lernerlebnisse. Was waren eure wichtigsten Erkenntnisse im Verlauf dieses Projekts?</li>\n",
    "</ul>\n",
    "</span>\n",
    "\n"
   ]
  }
 ],
 "metadata": {
  "kernelspec": {
   "display_name": "venv-ml-hs24",
   "language": "python",
   "name": "python3"
  },
  "language_info": {
   "codemirror_mode": {
    "name": "ipython",
    "version": 3
   },
   "file_extension": ".py",
   "mimetype": "text/x-python",
   "name": "python",
   "nbconvert_exporter": "python",
   "pygments_lexer": "ipython3",
   "version": "3.11.8"
  }
 },
 "nbformat": 4,
 "nbformat_minor": 5
}
