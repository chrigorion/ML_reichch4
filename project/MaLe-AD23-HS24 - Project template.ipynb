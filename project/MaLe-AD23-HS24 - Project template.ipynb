{
 "cells": [
  {
   "cell_type": "markdown",
   "id": "07ae0ad9-f22c-4783-b782-b5d5358132b6",
   "metadata": {},
   "source": [
    "# **Projektarbeit: Diabetes**\n",
    "\n",
    "**Kurs:** Maschinelles Lernen (MaLe-AD23-HS24)  \n",
    "**Autor/in:** Christoph Reichlin <br>\n",
    "**Datum:** 18.12.2024\n"
   ]
  },
  {
   "cell_type": "markdown",
   "id": "880c0df6",
   "metadata": {},
   "source": [
    "  <li><a href=\"https://www.datacamp.com/tutorial/markdown-in-jupyter-notebook\">Detailierteres Tutorial</a></li>"
   ]
  },
  {
   "cell_type": "markdown",
   "id": "4ff89746",
   "metadata": {},
   "source": [
    "---\n",
    "\n",
    "\n",
    "\n"
   ]
  },
  {
   "cell_type": "markdown",
   "id": "882bc372",
   "metadata": {},
   "source": [
    "\n",
    "\n",
    "## **Einführung**\n",
    "\n",
    "\n",
    "## Problemstellung\n",
    "Ziel ist es, mithilfe von medizinischen Daten vorherzusagen, ob ein Patient an Diabetes erkrankt ist oder nicht. Diese binäre Klassifikation soll mit Supervised Learning gelöst werden.\n",
    "\n",
    "## Daten\n",
    "Der Datensatz umfasst:\n",
    "- **Zeilen:** 2000\n",
    "- **Spalten:** 9 (davon 1 Zielvariable)\n",
    "\n",
    "## Zielvariable\n",
    "Die Zielvariable ist `Outcome`:\n",
    "- `0 = Nein`: Kein Diabetes\n",
    "- `1 = Ja`: Diabetes vorhanden\n",
    "\n",
    "\n",
    "## Features und Bedeutung\n",
    "\n",
    "1. **Pregnancies**\n",
    "   - Anzahl der Schwangerschaften, die eine Person hatte.\n",
    "   - Höhere Werte können mit einem erhöhten Risiko für Schwangerschaftsdiabetes in Verbindung stehen.\n",
    "\n",
    "2. **Glucose**\n",
    "   - Blutzuckerspiegel nach einer Glukosebelastung.\n",
    "   - Ein hoher Wert ist ein starker Indikator für Diabetes oder Prädiabetes.\n",
    "\n",
    "3. **Blood Pressure**\n",
    "   - Blutdruck (diastolisch) in mmHg.\n",
    "   - Erhöhte Blutdruckwerte können auf ein höheres Risiko für Typ-2-Diabetes hinweisen.\n",
    "\n",
    "4. **Skin Thickness**\n",
    "   - Hautfaltendicke (in mm), gemessen an der Trizeps-Stelle.\n",
    "   - Gibt einen Hinweis auf die Körperfettverteilung und mögliche Insulinresistenz.\n",
    "\n",
    "5. **Insulin**\n",
    "   - Serum-Insulinspiegel (in μU/ml).\n",
    "   - Abnormale Werte können auf Insulinresistenz oder eine gestörte Insulinproduktion hinweisen.\n",
    "\n",
    "6. **BMI**\n",
    "   - Body Mass Index (kg/m²).\n",
    "   - Ein hoher BMI ist ein bekannter Risikofaktor für Typ-2-Diabetes.\n",
    "\n",
    "7. **Diabetes Pedigree Function**\n",
    "   - Ein berechneter Wert, der die genetische Wahrscheinlichkeit von Diabetes anhand der Familienanamnese beschreibt.\n",
    "\n",
    "8. **Age**\n",
    "   - Alter der Person (in Jahren).\n",
    "   - Ältere Menschen haben ein höheres Risiko, an Typ-2-Diabetes zu erkranken.\n",
    "\n"
   ]
  },
  {
   "cell_type": "markdown",
   "id": "3ea206c6",
   "metadata": {},
   "source": [
    "---\n",
    "## **Setup**\n",
    "\n",
    "<span style=\"color:#2D8FF3;font-style:italic\">\n",
    "<b>Anleitung:</b>\n",
    "In diesem Abschnitt geht es darum, das Jupyter Notebook zu \n",
    "konfigurieren. Ihr braucht hier nicht viel zu machen.\n",
    "</span>\n"
   ]
  },
  {
   "cell_type": "code",
   "execution_count": null,
   "id": "afaf04a7",
   "metadata": {},
   "outputs": [],
   "source": [
    "# Basic imports\n",
    "import numpy as np\n",
    "import seaborn as sns\n",
    "import matplotlib.pyplot as plt\n",
    "from sklearn.datasets import load_iris\n",
    "\n",
    "# Enable vectorized graphics\n",
    "%config InlineBackend.figure_formats = [\"svg\"]\n",
    "\n",
    "# Setup plotting\n",
    "PALETTE = [ (0.341, 0.648, 0.962, 1.0), \n",
    "            (0.990, 0.476, 0.494, 1.0), \n",
    "            (0.281, 0.749, 0.463, 1.0), \n",
    "            (0.629, 0.802, 0.978, 1.0), \n",
    "            (0.994, 0.705, 0.715, 1.0), \n",
    "            (0.595, 0.858, 0.698, 1.0), \n",
    "            (0.876, 0.934, 0.992, 1.0), \n",
    "            (0.998, 0.901, 0.905, 1.0), \n",
    "            (0.865, 0.952, 0.899, 1.0) ]\n",
    "\n",
    "# For more color palettes, see here:\n",
    "# https://seaborn.pydata.org/tutorial/color_palettes.html\n",
    "# https://matplotlib.org/stable/users/explain/colors/colormaps.html\n",
    "#PALETTE = sns.color_palette(\"husl\", 8)\n",
    "#PALETTE = sns.color_palette(\"viridis\", 10)\n",
    "\n",
    "print(\"Our color palette:\")\n",
    "sns.palplot(PALETTE, size=0.5)\n",
    "\n",
    "sns.set_style(\"whitegrid\")\n",
    "plt.rcParams[\"axes.prop_cycle\"] = plt.cycler(color=PALETTE)\n",
    "plt.rcParams[\"figure.dpi\"] = 300    # High-res figures (DPI)\n",
    "plt.rcParams[\"pdf.fonttype\"] = 42   # Editable text in PDF"
   ]
  },
  {
   "cell_type": "markdown",
   "id": "757d519f",
   "metadata": {},
   "source": [
    "---\n",
    "## **Präprozessierung**\n",
    "\n",
    "<span style=\"color:#2D8FF3;font-style:italic\">\n",
    "<b>Anleitung:</b>\n",
    "In diesem Abschnitt werden die Daten geladen und aufbereitet.<br>\n",
    "</span>\n"
   ]
  },
  {
   "cell_type": "code",
   "execution_count": 15,
   "id": "3ee17cd8-0e36-4adb-8227-3c028ec806d7",
   "metadata": {},
   "outputs": [],
   "source": [
    "# Code to load and preprocess the data\n",
    "..."
   ]
  },
  {
   "cell_type": "markdown",
   "id": "c15e64d8",
   "metadata": {},
   "source": [
    "---\n",
    "\n",
    "## **Explorative Datenanalyse**\n",
    "\n",
    "<span style=\"color:#2D8FF3;font-style:italic\">\n",
    "<b>Anleitung:</b>\n",
    "Hier untersucht ihr eure Daten ein erstes Mal, visualisiert sie und versucht, Muster zu erkennen.\n",
    "Zeigt hier, dass ihr neugierig seid und euch mit den Daten auseinandersetzt.\n",
    "</span>\n",
    "\n"
   ]
  },
  {
   "cell_type": "code",
   "execution_count": null,
   "id": "8a69cdae",
   "metadata": {},
   "outputs": [],
   "source": [
    "# Code to perform the exploratory data analysis\n",
    "..."
   ]
  },
  {
   "cell_type": "markdown",
   "id": "9250f98f",
   "metadata": {},
   "source": [
    "---\n",
    "\n",
    "## **Feature Engineering und Dimensionalitätsreduktion**\n",
    "\n",
    "<span style=\"color:#2D8FF3;font-style:italic\">\n",
    "<b>Anleitung:</b>\n",
    "Beim Feature Engineering versucht ihr aus den verfügbaren Daten nützliche \n",
    "neue Features zu generieren. Falls ihr bereits viele Prädiktoren habt, versucht \n",
    "ihr die Dimensionalität des Problems mittels eines geeigneten Verfahrens zu reduzieren.\n",
    "Je nach Datensatz und Problem fällt dieser Abschnitt länger oder kürzer aus.\n",
    "</span>\n",
    "\n"
   ]
  },
  {
   "cell_type": "code",
   "execution_count": null,
   "id": "85083e58",
   "metadata": {},
   "outputs": [],
   "source": [
    "# Code to perform the feature engineering\n",
    "..."
   ]
  },
  {
   "cell_type": "markdown",
   "id": "44bfdc72",
   "metadata": {},
   "source": [
    "---\n",
    "\n",
    "## **Modellieren, Trainieren und Validieren**\n",
    "\n",
    "<span style=\"color:#2D8FF3;font-style:italic\">\n",
    "<b>Anleitung:</b>\n",
    "Es folgt der für diese Projektarbeit zentrale Abschnitt. Hier trainiert \n",
    "Datenmodelle, und validiert diese. Folgende Punkte sind zu beachten:\n",
    "\n",
    "<ul>\n",
    "    <li>Es sollen mindestens <u>zwei verschiedene Datenmodelle</u> trainiert und verglichen werden.</li>\n",
    "    <li>Die Hyperparameter sollen mittels <u>Kreuzvalidierung</u> ermittelt werden.</li>\n",
    "    <li>Die Vorhersagegenauigkeit der Modelle müssen mit einem <u>separaten Testdatensatz</u> abgeschätzt werden.</li>\n",
    "    <li>Die Resultate der Trainings- und Testphasen sollen <u>visualisiert</u> werden (z.B. mittels ROC-Kurve oder Residuen-Plots).</li>\n",
    "    <li>Bonuspunkte gibt es, falls\n",
    "        <ul style=\"list-style-type:  circle;\">\n",
    "            <li>der Generalisierungsfehler des Modells robust ermittelt wird (durch wiederholtes Validieren, so dass die Kennzahlen für Vorhersagegenauigkeit als \"µ ± σ\" angeben werden kann).</li>\n",
    "            <li>die Vorhersagefehler der Modelle auf Muster untersucht werden.</li>\n",
    "            <li>falls eine Standardmodellierung basierend auf Beobachtungen verfeinert und weiterentwickelt wird.</li>\n",
    "        </ul></li>\n",
    "</ul>\n",
    "\n",
    "Wir empfehlen, die verschiedenen Modelle in scikit-learn <a href=https://scikit-learn.org/1.5/modules/compose.html>als Pipelines</a> aufzubauen.\n",
    "</span>\n"
   ]
  },
  {
   "cell_type": "code",
   "execution_count": null,
   "id": "6d85325f",
   "metadata": {},
   "outputs": [],
   "source": [
    "# Code to perform the model training and validation\n",
    "..."
   ]
  },
  {
   "cell_type": "markdown",
   "id": "a1638d63",
   "metadata": {},
   "source": [
    "---\n",
    "\n",
    "## **Diskussion und Fazit**\n",
    "\n",
    "<span style=\"color:#2D8FF3;font-style:italic\">\n",
    "<b>Anleitung:</b>\n",
    "Diskutiert hier <u>kurz</u> eure Erkenntnisse aus eurer Projektarbeit. Folgende Punkte müsst ihr addressieren:\n",
    "\n",
    "<ul>\n",
    "    <li>Wie interpretiert eure Ergebnisse:\n",
    "        <ul style=\"list-style-type:  circle;\">\n",
    "            <li>Welches Datenmodell funktioniert am besten?</li>\n",
    "            <li>Wie gut löst es das formulierte Problem?</li>\n",
    "            <li>Entsprechen die Ergebnisse euren Erwartungen?</li>\n",
    "        </ul></li>\n",
    "    <li>Habt ihr Verbesserungsvorschläge für eure Datenmodelle?</li>\n",
    "    <li>Beschreibt eure Lernerlebnisse. Was waren eure wichtigsten Erkenntnisse im Verlauf dieses Projekts?</li>\n",
    "</ul>\n",
    "</span>\n",
    "\n"
   ]
  }
 ],
 "metadata": {
  "kernelspec": {
   "display_name": "venv-ml-hs24",
   "language": "python",
   "name": "python3"
  },
  "language_info": {
   "codemirror_mode": {
    "name": "ipython",
    "version": 3
   },
   "file_extension": ".py",
   "mimetype": "text/x-python",
   "name": "python",
   "nbconvert_exporter": "python",
   "pygments_lexer": "ipython3",
   "version": "3.11.8"
  }
 },
 "nbformat": 4,
 "nbformat_minor": 5
}
