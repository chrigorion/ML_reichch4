{
 "cells": [
  {
   "cell_type": "markdown",
   "id": "09130c1c",
   "metadata": {},
   "source": [
    "# **SW01: Recap of NumPy arrays**\n",
    "\n",
    "To fully appreciate how many machine learning algorithms work, a good understanding of linear algebra is required.  We cannot cover all the necessary concepts in this course, but we will outline some basic in this notebook. \n",
    "\n",
    "**Recommendation**: Take a look at the miniprimer on matrices and vectors in the course's git repository!\n"
   ]
  },
  {
   "cell_type": "code",
   "execution_count": 1,
   "id": "d257ee70-108d-4c7f-b357-67a9127b9ee4",
   "metadata": {},
   "outputs": [],
   "source": [
    "import numpy as np"
   ]
  },
  {
   "cell_type": "markdown",
   "id": "e378af27",
   "metadata": {},
   "source": [
    "---\n",
    "\n",
    "## **Arrays and matrices**"
   ]
  },
  {
   "cell_type": "code",
   "execution_count": 3,
   "id": "408672d7-6a34-48d2-afd6-815a69a66969",
   "metadata": {},
   "outputs": [],
   "source": [
    "########################\n",
    "###    EXERCISE 1    ###\n",
    "########################\n",
    "\n",
    "# Create a NumPy array with values [2, 3, 4].\n",
    "a = ..."
   ]
  },
  {
   "cell_type": "markdown",
   "id": "802899b2",
   "metadata": {},
   "source": [
    "a = np.array[2,3,4]"
   ]
  },
  {
   "cell_type": "code",
   "execution_count": 2,
   "id": "6cf48751",
   "metadata": {},
   "outputs": [
    {
     "data": {
      "text/plain": [
       "array([2, 3, 4])"
      ]
     },
     "execution_count": 2,
     "metadata": {},
     "output_type": "execute_result"
    }
   ],
   "source": [
    "########################\n",
    "###    SOLUTION 1    ###\n",
    "########################\n",
    "\n",
    "a = np.array([2, 3, 4]) \n",
    "a"
   ]
  },
  {
   "cell_type": "code",
   "execution_count": 4,
   "id": "27e3b001-195b-4991-84f2-c665b9bba8fb",
   "metadata": {},
   "outputs": [],
   "source": [
    "########################\n",
    "###    EXERCISE 2    ###\n",
    "########################\n",
    "\n",
    "# Initialize a NumPy array with a range [1, ..., 15] and reshape\n",
    "# it into a matrix (2D-array) with 3 rows and 5 columns.\n",
    "#  - Verify the shape of the resulting array. \n",
    "#  - What does the ndim attribute tell you?\n",
    "a = ..."
   ]
  },
  {
   "cell_type": "code",
   "execution_count": null,
   "id": "d44a0ec5",
   "metadata": {},
   "outputs": [],
   "source": [
    "########################\n",
    "###    SOLUTION 2    ###\n",
    "########################\n",
    "\n",
    "a = np.arange(1, 16).reshape(3, 5) \n",
    "\n",
    "display(a)\n",
    "display(a.shape)\n",
    "display(a.ndim)\n",
    "\n",
    "# The attribute ndim gives the number of dimensions of the array."
   ]
  },
  {
   "cell_type": "markdown",
   "id": "c576fad4",
   "metadata": {},
   "source": [
    "\n",
    "Let's operate from here on with the following two matrices:\n",
    "\n",
    "$\n",
    "A = \\begin{pmatrix}1 & 1 & 2\\\\0 & 1 & 0\\end{pmatrix}, \\quad\n",
    "B = \\begin{pmatrix}2 & 0 & 1\\\\3 & 4 & 2\\end{pmatrix}\n",
    "$\n",
    "\n",
    "We refer to the element in the $i$-th row and $j$-th column of the matrix as $a_{i,j}$ for the matrix $A$ and $b_{i,j}$ for the matrix $B$.\n",
    "\n"
   ]
  },
  {
   "cell_type": "code",
   "execution_count": null,
   "id": "dc2a4f09-fcf0-4b95-9dc5-2719d0880d79",
   "metadata": {},
   "outputs": [],
   "source": [
    "# Create the two matrices A and B.\n",
    "A = np.array([[1, 1, 2],[0, 1, 0]])\n",
    "B = np.array([[2, 0, 1],[3, 4, 2]])\n",
    "\n",
    "display(A, B)"
   ]
  },
  {
   "cell_type": "markdown",
   "id": "a2143e2f",
   "metadata": {},
   "source": [
    "An elementary matrix operation is the transposition: $A^T$.\n",
    "It is obtained by swapping the rows and columns of the matrix.\n",
    "\n",
    "$A^T = \\begin{pmatrix} 1 & 0 \\\\ 1 & 1 \\\\ 2 & 0 \\end{pmatrix}$"
   ]
  },
  {
   "cell_type": "code",
   "execution_count": null,
   "id": "40f552c2",
   "metadata": {},
   "outputs": [],
   "source": [
    "# We can transpose a numpy array using the T attribute or \n",
    "# by using the function np.transpose().\n",
    "A.T\n",
    "np.transpose(A)"
   ]
  },
  {
   "cell_type": "markdown",
   "id": "cf6b1a9c",
   "metadata": {},
   "source": [
    "---\n",
    "\n",
    "## **Matrix multiplication**\n",
    "\n",
    "We can distinguish between two types of multiplication:\n",
    "- Element-wise product: $c_{ij} = a_{ij} \\cdot b_{ij}$\n",
    "- Matrix multiplication (or dot product): $c_{ij} = \\sum_k a_{ik} \\cdot b_{kj}$\n",
    "\n",
    "The element-wise multiplication is quite intuitive, while the matrix multiplication is a bit more complicated. (The miniprimer provides a good illustration of exactly how the calculation scheme works!)\n",
    "\n",
    "For two NumPy arrays (of matching shape), we can compute the element-wise product using the **\\* operator** (or `np.multiply()`), and the dot product using **@ operator** (or `np.dot()`):\n",
    "\n",
    "```python\n",
    "# Element-wise product\n",
    "C = A*B\n",
    "C = np.multiply(A,B)\n",
    "\n",
    "# Dot product\n",
    "C = A@B\n",
    "C = np.dot(A,B)\n",
    "```\n"
   ]
  },
  {
   "cell_type": "code",
   "execution_count": 8,
   "id": "daa56add",
   "metadata": {},
   "outputs": [],
   "source": [
    "########################\n",
    "###    EXERCISE 3    ###\n",
    "########################\n",
    "\n",
    "# Compute the ELEMENT-WISE product of A and B by hand!\n",
    "# What is the shape of the resulting matrix C?"
   ]
  },
  {
   "cell_type": "code",
   "execution_count": 9,
   "id": "1f2f5429",
   "metadata": {},
   "outputs": [],
   "source": [
    "########################\n",
    "###    SOLUTION 3    ###\n",
    "########################\n",
    "\n",
    "\n",
    "# C = [[1*2, 1*0, 2*1],\n",
    "#      [0*3, 1*4, 0*2]]\n",
    "#   = [[2, 0, 2],\n",
    "#      [0, 4, 0]]\n",
    "#\n",
    "# The shape of the resulting matrix C is (2, 3)."
   ]
  },
  {
   "cell_type": "code",
   "execution_count": 10,
   "id": "f591e940",
   "metadata": {},
   "outputs": [],
   "source": [
    "########################\n",
    "###    EXERCISE 4    ###\n",
    "########################\n",
    "\n",
    "# Compute the DOT product of A and B^T: A · B^T\n",
    "# Can you give an answer why we need to transpose B?"
   ]
  },
  {
   "cell_type": "code",
   "execution_count": 11,
   "id": "f86ea205",
   "metadata": {},
   "outputs": [],
   "source": [
    "########################\n",
    "###    SOLUTION 4    ###\n",
    "########################\n",
    "\n",
    "# C = [[1*2 + 1*0 + 2*1, 1*3 + 1*4 + 2*2],\n",
    "#      [0*2 + 1*0 + 0*1, 0*3 + 1*4 + 0*2]]\n",
    "#   = [[4, 11],\n",
    "#      [0, 4]]\n",
    "\n",
    "# The calculation scheme for the dot product requires that the number of \n",
    "# columns in the first matrix (A) is equal to the number of rows in the \n",
    "# second matrix (B). Otherwise, the dot product is not defined."
   ]
  },
  {
   "cell_type": "code",
   "execution_count": null,
   "id": "e77c44b7",
   "metadata": {},
   "outputs": [],
   "source": [
    "# In Python, we can use the * operator (or np.multiply()) to compute the \n",
    "# element-wise product of NumPy arrays A and B.\n",
    "A * B \n",
    "np.multiply(A, B)"
   ]
  },
  {
   "cell_type": "code",
   "execution_count": null,
   "id": "2e6a08bc-279c-40fd-ac9a-95ad4fee04bf",
   "metadata": {},
   "outputs": [],
   "source": [
    "# Similarly, we can use the @ operator (or np.dot()) to compute the dot product\n",
    "# of NumPy arrays A and B.\n",
    "A @ B.T\n",
    "np.dot(A, B.T)"
   ]
  },
  {
   "cell_type": "code",
   "execution_count": 14,
   "id": "8d87a14e",
   "metadata": {},
   "outputs": [],
   "source": [
    "########################\n",
    "###    EXERCISE 5    ###\n",
    "########################\n",
    "\n",
    "# Why does the following code snippet will give an error?\n",
    "\n",
    "# Uncomment this line to see the error:\n",
    "# B @ A"
   ]
  },
  {
   "cell_type": "code",
   "execution_count": 15,
   "id": "761c69c1",
   "metadata": {},
   "outputs": [],
   "source": [
    "########################\n",
    "###    SOLUTION 5    ###\n",
    "########################\n",
    "\n",
    "# Again, the matrix dimensions do not match for the dot product!"
   ]
  },
  {
   "cell_type": "code",
   "execution_count": null,
   "id": "51dd361e-5299-4502-9c8d-76eed5e30ba0",
   "metadata": {},
   "outputs": [],
   "source": [
    "########################\n",
    "###    EXERCISE 6    ###\n",
    "########################\n",
    "\n",
    "# Describe in words what each of the following expressions does:\n",
    "print(B.sum(axis=0))\n",
    "print(B.sum(axis=1))\n",
    "print(B.sum())\n",
    "\n",
    "# Can you think of other functions that can be used in a similar way?\n"
   ]
  },
  {
   "cell_type": "code",
   "execution_count": null,
   "id": "70106d09",
   "metadata": {},
   "outputs": [],
   "source": [
    "########################\n",
    "###    SOLUTION 6    ###\n",
    "########################\n",
    "\n",
    "# B.sum(axis=0) computes the sum of the elements along the columns of B.\n",
    "# B.sum(axis=1) computes the sum of the elements along the rows of B.\n",
    "# B.sum() computes the sum of all elements in B.\n",
    "\n",
    "# Similarly, we can compute the minimum, maximum mean, standard deviation \n",
    "# or other measures along a specific axis or for the entire array:\n",
    "print(B.min(axis=0))\n",
    "print(B.max(axis=1))\n",
    "print(B.mean())"
   ]
  },
  {
   "cell_type": "markdown",
   "id": "e65120ec",
   "metadata": {},
   "source": [
    "---\n",
    "\n",
    "## **Accessing array elements**\n",
    "\n",
    "There are different ways to access of array elements: \n",
    "\n",
    "- Using indices or index arrays\n",
    "- Using the slicing operator (`:`)\n",
    "- Using boolean indexing (a.k.a. masking)\n",
    "\n",
    "Let's recapitulate these methods using a new matrix C."
   ]
  },
  {
   "cell_type": "code",
   "execution_count": null,
   "id": "87b62db8",
   "metadata": {},
   "outputs": [],
   "source": [
    "C = np.arange(1, 28).reshape(3, 9)\n",
    "display(C)"
   ]
  },
  {
   "cell_type": "code",
   "execution_count": 19,
   "id": "b18f7b1f",
   "metadata": {},
   "outputs": [],
   "source": [
    "########################\n",
    "###    EXERCISE 7    ###\n",
    "########################\n",
    "\n",
    "# a) Display the element at the second row and third column of matrix C.\n",
    "# b) Display the first row of matrix C.\n",
    "# c) Display the second column of matrix C.\n",
    "# d) Display the submatrix of C that consists of the first two rows and columns."
   ]
  },
  {
   "cell_type": "code",
   "execution_count": null,
   "id": "4b2fb4b6",
   "metadata": {},
   "outputs": [],
   "source": [
    "########################\n",
    "###    SOLUTION 7    ###\n",
    "########################\n",
    "\n",
    "display(C[1, 2])\n",
    "display(C[0, :])  # or just C[0]\n",
    "display(C[:, 1])\n",
    "display(C[:2, :2]) # or: C[:, :-1] (skipt the last column)"
   ]
  },
  {
   "cell_type": "code",
   "execution_count": null,
   "id": "60291298-1380-4dce-b518-be20faa9d1f1",
   "metadata": {},
   "outputs": [],
   "source": [
    "########################\n",
    "###    EXERCISE 8    ###\n",
    "########################\n",
    "\n",
    "# Explain what the following expressions do:\n",
    "display(C[2])            # a)\n",
    "display(C[:, [1, 3]])    # b)\n",
    "display(C[-1, :])        # c)\n",
    "display(C[:-1, 2:-3])    # d)\n",
    "display(C[:, 1:9:2])     # e)\n",
    "display(C[:, ::-1])      # f)\n",
    "display(C[::-1, ])       # g)\n"
   ]
  },
  {
   "cell_type": "code",
   "execution_count": null,
   "id": "b0396eaf",
   "metadata": {},
   "outputs": [],
   "source": [
    "########################\n",
    "###    SOLUTION 8    ###\n",
    "########################\n",
    "\n",
    "# a) Access the third row.\n",
    "# b) Access the second and fourth column.\n",
    "# c) Access the last row.\n",
    "# d) Skip the last row and access the third to the sixth column.\n",
    "# e) Access every second column from the second to the last column.\n",
    "#    Note: the following is equivalent: as we don't have to specify\n",
    "#    the end index if we want to go to the end.\n",
    "# f) Reverse the order of the columns.\n",
    "# g) Reverse the order of the rows.\n",
    "\n",
    "print(\"Note on e)\")\n",
    "display(C[:, 1:9:2])\n",
    "display(C[:, 1::2])  "
   ]
  },
  {
   "cell_type": "markdown",
   "id": "ec4df17e",
   "metadata": {},
   "source": [
    "### Access submatrices using index arrays"
   ]
  },
  {
   "cell_type": "code",
   "execution_count": null,
   "id": "f48697b8",
   "metadata": {},
   "outputs": [],
   "source": [
    "i = [1, 1, 2, 5, 5, 5]  # an array of indices\n",
    "display(C[:, i])"
   ]
  },
  {
   "cell_type": "markdown",
   "id": "c0cef055",
   "metadata": {},
   "source": [
    "### Access submatrices using boolean indexing"
   ]
  },
  {
   "cell_type": "code",
   "execution_count": null,
   "id": "fa347a32",
   "metadata": {},
   "outputs": [],
   "source": [
    "\n",
    "# Pick all elements greater than 14.\n",
    "mask = C > 14\n",
    "display(mask)\n",
    "display(C[mask])\n",
    "\n",
    "# Pick all even elements.\n",
    "# (Recall: % is the modulo operator)\n",
    "mask = C % 2 == 0\n",
    "display(C[mask])\n",
    "\n",
    "# Pick all columns where all elements are divisible by 3.\n",
    "mask = (C % 3 == 0).all(axis=0)\n",
    "display(C[:, mask])"
   ]
  },
  {
   "cell_type": "code",
   "execution_count": null,
   "id": "78d87805-3668-4b9d-a8b6-396522a8bd47",
   "metadata": {},
   "outputs": [],
   "source": [
    "# New matrix\n",
    "C = np.arange(1, 28).reshape(3, 9)\n",
    "C\n"
   ]
  },
  {
   "cell_type": "markdown",
   "id": "7a1abab9",
   "metadata": {},
   "source": [
    "---\n",
    "\n",
    "## **Functions and matrices**\n",
    "\n",
    "Do you remember functions like $f(x) = x^3 + 9$ or $f(x) = \\sin(x)$? \n",
    "Well, we can also apply these functions to NumPy arrays (and matrices). \n",
    "The corresponding functions are applied to the array element by element.\n"
   ]
  },
  {
   "cell_type": "code",
   "execution_count": null,
   "id": "b9d4e2e0",
   "metadata": {},
   "outputs": [],
   "source": [
    "# Example 1\n",
    "display(A**3 + 9)\n",
    "\n",
    "# Example 2\n",
    "display(np.sin(A))"
   ]
  }
 ],
 "metadata": {
  "kernelspec": {
   "display_name": "Python 3 (ipykernel)",
   "language": "python",
   "name": "python3"
  },
  "language_info": {
   "codemirror_mode": {
    "name": "ipython",
    "version": 3
   },
   "file_extension": ".py",
   "mimetype": "text/x-python",
   "name": "python",
   "nbconvert_exporter": "python",
   "pygments_lexer": "ipython3",
   "version": "3.11.5"
  }
 },
 "nbformat": 4,
 "nbformat_minor": 5
}
