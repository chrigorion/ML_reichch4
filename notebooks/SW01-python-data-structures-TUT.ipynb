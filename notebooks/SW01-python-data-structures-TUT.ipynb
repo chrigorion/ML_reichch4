{
 "cells": [
  {
   "cell_type": "markdown",
   "id": "b40da613",
   "metadata": {},
   "source": [
    "# **SW01: Recap of Python data structures**\n",
    "\n",
    "This notebook serves you to quickly refresh your Python knowledge. \n",
    "\n",
    "If the expressions marked with `*ADVANCED*` are not entirely clear to you yet - don't worry! They require advanced knowledge of Python and are not central to this course."
   ]
  },
  {
   "cell_type": "markdown",
   "id": "ecf73a53",
   "metadata": {},
   "source": [
    "---\n",
    "\n",
    "## **Strings**"
   ]
  },
  {
   "cell_type": "code",
   "execution_count": null,
   "id": "7372668e-5d2c-4979-b514-591c9e2a235d",
   "metadata": {},
   "outputs": [],
   "source": [
    "# Assign a string to a variable.\n",
    "a = \"Hello world!\"\n",
    "print(a) "
   ]
  },
  {
   "cell_type": "code",
   "execution_count": null,
   "id": "1d79735a-98eb-42c6-8f3c-9f4c6306effd",
   "metadata": {},
   "outputs": [],
   "source": [
    "# Access elements of string by index/square brackets.\n",
    "print(a[1])"
   ]
  },
  {
   "cell_type": "code",
   "execution_count": null,
   "id": "b4d421ce-e9b8-4fc7-9bc4-074809692e1a",
   "metadata": {},
   "outputs": [],
   "source": [
    "# Strings are arrays and can be looped through.\n",
    "for x in a:\n",
    "  print(x)"
   ]
  },
  {
   "cell_type": "code",
   "execution_count": null,
   "id": "5a977871",
   "metadata": {},
   "outputs": [],
   "source": [
    "# Convert the characters in a string:\n",
    "# - upper(): upper case \n",
    "# - lower(): lower case\n",
    "# - capitalize(): capitalize the first character of the string\n",
    "# - title(): capitalize the first character of each word in the string\n",
    "print(a.upper())\n",
    "print(a.lower())\n",
    "print(a.capitalize())\n",
    "print(a.title())"
   ]
  },
  {
   "cell_type": "code",
   "execution_count": null,
   "id": "205e6405-3b92-41d0-b0af-f19d73e19f37",
   "metadata": {},
   "outputs": [],
   "source": [
    "# Check whether a certain phrase or character is present in a string.\n",
    "text = \"Machine learning is cool!\"\n",
    "print(\"cool\" in text)"
   ]
  },
  {
   "cell_type": "code",
   "execution_count": null,
   "id": "629a4227-66f7-4788-bf66-4832aaaff7ea",
   "metadata": {},
   "outputs": [],
   "source": [
    "# The strip() method removes any whitespace from the beginning or the end.\n",
    "a = \"   Hello, World!    \"\n",
    "print(a)\n",
    "print(a.strip()) "
   ]
  },
  {
   "cell_type": "code",
   "execution_count": null,
   "id": "1164cda5-09c4-474e-959b-0d884c3a4b2e",
   "metadata": {},
   "outputs": [],
   "source": [
    "# The split() method splits the string into substrings if it finds \n",
    "# instances of the separator specified, and returns a list of the substrings.\n",
    "a = \"Hello,   World! \"\n",
    "print(a)\n",
    "print(a.split(\",\"))"
   ]
  },
  {
   "cell_type": "code",
   "execution_count": null,
   "id": "7effa871",
   "metadata": {},
   "outputs": [],
   "source": [
    "# In the above solution, you might dislike the whitespaces in the substrings.\n",
    "# We can improve the solution by using the strip() method on each substring.\n",
    "\n",
    "# Using a for loop...\n",
    "ret = []\n",
    "for s in a.split(\",\"):\n",
    "    ret.append(s.strip())\n",
    "print(ret)\n",
    "\n",
    "# Using a list comprehension...\n",
    "print([s.strip() for s in a.split(\",\")])\n",
    "\n",
    "# Using the map() function... (*ADVANCED*)\n",
    "print(list(map(str.strip, a.split(\",\"))))\n"
   ]
  },
  {
   "cell_type": "markdown",
   "id": "71b74207-114a-4997-aaef-03f6c2026b05",
   "metadata": {},
   "source": [
    "---\n",
    "\n",
    "## **Lists**"
   ]
  },
  {
   "cell_type": "code",
   "execution_count": null,
   "id": "fef1bdca-d311-4d66-ae90-fbac8a52c891",
   "metadata": {},
   "outputs": [],
   "source": [
    "# Create a list of strings.\n",
    "list_names = ['tom', 'jerry', 'spike', 'tyke']\n",
    "print(list_names)"
   ]
  },
  {
   "cell_type": "code",
   "execution_count": null,
   "id": "9948fcc8-db7c-4fc7-aece-d80341f639d8",
   "metadata": {},
   "outputs": [],
   "source": [
    "# Access an element by index/square brackets.\n",
    "print(list_names[1])"
   ]
  },
  {
   "cell_type": "code",
   "execution_count": null,
   "id": "43d540dc-3525-482e-8367-84073c58dc54",
   "metadata": {},
   "outputs": [],
   "source": [
    "# Negative indexing reverses the indexing.\n",
    "print(list_names[-1])"
   ]
  },
  {
   "cell_type": "code",
   "execution_count": null,
   "id": "39958d01-7a2a-403a-bf36-1c0d9bf440a1",
   "metadata": {},
   "outputs": [],
   "source": [
    "# Access range of values by specifying range of indexes.\n",
    "print(list_names[1:3])"
   ]
  },
  {
   "cell_type": "code",
   "execution_count": null,
   "id": "974e4c6f-0775-4d35-b4bf-502f3e3c195b",
   "metadata": {},
   "outputs": [],
   "source": [
    "# Add an item to the end of the list.\n",
    "list_names.append(\"mike\")\n",
    "print(list_names)"
   ]
  },
  {
   "cell_type": "code",
   "execution_count": null,
   "id": "d4cb0045",
   "metadata": {},
   "outputs": [],
   "source": [
    "# Add an item at a specified index.\n",
    "idx = 0\n",
    "list_names.insert(idx, \"pocahontas\")\n",
    "print(list_names)"
   ]
  },
  {
   "cell_type": "code",
   "execution_count": null,
   "id": "42f0391c-bcff-44f0-8fe8-1a750a6e11b5",
   "metadata": {},
   "outputs": [],
   "source": [
    "# You can loop through the list items by using a for loop.\n",
    "for x in list_names:\n",
    "    print(x)"
   ]
  },
  {
   "cell_type": "code",
   "execution_count": null,
   "id": "4d6c9e9b-f609-4856-9f47-1ff0c3803b0d",
   "metadata": {},
   "outputs": [],
   "source": [
    "# Create a new list based on the values of an existing list. \n",
    "new_list = []\n",
    "for x in list_names:\n",
    "    if \"y\" in x:\n",
    "        new_list.append(x)\n",
    "print(new_list)"
   ]
  },
  {
   "cell_type": "code",
   "execution_count": null,
   "id": "c965b959-6c5b-4e24-9237-6501597e1530",
   "metadata": {},
   "outputs": [],
   "source": [
    "# List comprehension offers a short-cut (and is even faster).\n",
    "new_list = [x for x in list_names if \"y\" in x]\n",
    "print(new_list) "
   ]
  },
  {
   "cell_type": "markdown",
   "id": "a2ed82e4-94e1-4413-95e1-8697ea752414",
   "metadata": {},
   "source": [
    "---\n",
    "\n",
    "## **Dictionaries**"
   ]
  },
  {
   "cell_type": "code",
   "execution_count": null,
   "id": "0a4b10b5-dfa5-438e-9ea3-ee5ad054c370",
   "metadata": {},
   "outputs": [],
   "source": [
    "# Dictionaries are used to store data values in key:value pairs.\n",
    "dct = {\n",
    "  \"title\": \"The Lion King\",\n",
    "  \"year\": 1994,\n",
    "  \"duration\": 88\n",
    "}\n",
    "print(dct)    "
   ]
  },
  {
   "cell_type": "code",
   "execution_count": null,
   "id": "4ea6a21d-2a28-42e1-a990-669c42eb3855",
   "metadata": {},
   "outputs": [],
   "source": [
    "# Add an item to the dictionary using a new key-value pair.\n",
    "dct[\"language\"] = \"English\"\n",
    "print(dct) \n",
    "print(dct[\"language\"])"
   ]
  },
  {
   "cell_type": "code",
   "execution_count": null,
   "id": "6b4056f4-a1fb-4425-a2ff-3b61fe4b2835",
   "metadata": {},
   "outputs": [],
   "source": [
    "# Retrieve the keys and values of the dictionary (as an iterable).\n",
    "print(dct.keys())\n",
    "print(dct.values())\n",
    "\n",
    "# *ADVANCED* Technically, the keys() and values() methods return view objects\n",
    "# that do not behave like a list. But one can convert them easily to a list.\n",
    "print(list(dct.keys()))\n",
    "print(list(dct.values()))"
   ]
  },
  {
   "cell_type": "code",
   "execution_count": null,
   "id": "98337f2b-1fd5-40ac-8b53-9a8644645b60",
   "metadata": {},
   "outputs": [],
   "source": [
    "# Attempting to access a non-existing key will raise a KeyError.\n",
    "dct['actor']"
   ]
  },
  {
   "cell_type": "code",
   "execution_count": null,
   "id": "2730dfb9-7bda-4c18-b51e-9c8d45d9aa05",
   "metadata": {},
   "outputs": [],
   "source": [
    "# Get all the key:value pairs, as tuples in an iterable.\n",
    "print(dct.items()) \n",
    "\n",
    "# In some situations, we need to convert this iterable to a list.\n",
    "print(list(dct.items()))"
   ]
  },
  {
   "cell_type": "code",
   "execution_count": null,
   "id": "6f533cb6-9c0f-4a92-b8aa-fd264eb26bf3",
   "metadata": {},
   "outputs": [],
   "source": [
    "# Create a dictionary from two lists, using zip().\n",
    "keys = [\"a\", \"b\"]\n",
    "values = [1, 2]\n",
    "new_dict = dict(zip(keys, values))\n",
    "print(new_dict)\n",
    "\n",
    "# The zip() function takes an iterable—such as a list, tuple, set, or dictionary—as an argument. \n",
    "# The function will generate a list of tuples that contain elements from each iterable."
   ]
  },
  {
   "cell_type": "code",
   "execution_count": 24,
   "id": "432b3a78",
   "metadata": {},
   "outputs": [],
   "source": [
    "# Create a dictionary from two lists, using dictioanry comprehension.\n",
    "keys = ['a', 'b', 'c']\n",
    "values = [1, 2, 3]\n",
    "dct = {k: v for k, v in zip(keys, values)}"
   ]
  },
  {
   "cell_type": "code",
   "execution_count": null,
   "id": "eea0b54c",
   "metadata": {},
   "outputs": [],
   "source": [
    "# *ADVANCED* We used the zip() function to combine two (or more) lists to \n",
    "# generate a sequence of tuples where the i-th tuple contains the i-th \n",
    "# element from each of the input lists. Note that the zip() function will \n",
    "# stop generating tuples when the shortest input iterable is exhausted.\n",
    "print(zip(range(7), \"abcd\"))\n",
    "\n",
    "# Well, the zip() function returns a generator. To actually see the tuples,\n",
    "# we need to convert the generator to a list.\n",
    "list(zip(range(7), \"abcd\"))\n"
   ]
  },
  {
   "cell_type": "markdown",
   "id": "5ff41333",
   "metadata": {},
   "source": [
    "---\n",
    "\n",
    "## **Sets**"
   ]
  },
  {
   "cell_type": "code",
   "execution_count": null,
   "id": "3fa5803a",
   "metadata": {},
   "outputs": [],
   "source": [
    "# Sets are containers that do not allow duplicate elements.\n",
    "# Sets are unordered, so the elements may appear in a random order.\n",
    "a = {1, 1, 2, 3, 3, 4, 5, 5, 5, 5}\n",
    "print(a)"
   ]
  },
  {
   "cell_type": "code",
   "execution_count": null,
   "id": "f98f4d30",
   "metadata": {},
   "outputs": [],
   "source": [
    "# Sets are particularly useful to remove duplicates from a list.\n",
    "b = [1, 1, 2, 3, 3, 4, 5, 5, 5, 5]\n",
    "print(set(b))\n"
   ]
  }
 ],
 "metadata": {
  "kernelspec": {
   "display_name": "Python 3 (ipykernel)",
   "language": "python",
   "name": "python3"
  },
  "language_info": {
   "codemirror_mode": {
    "name": "ipython",
    "version": 3
   },
   "file_extension": ".py",
   "mimetype": "text/x-python",
   "name": "python",
   "nbconvert_exporter": "python",
   "pygments_lexer": "ipython3",
   "version": "3.11.8"
  }
 },
 "nbformat": 4,
 "nbformat_minor": 5
}
