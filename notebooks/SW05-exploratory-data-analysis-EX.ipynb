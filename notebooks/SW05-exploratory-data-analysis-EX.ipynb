{
 "cells": [
  {
   "cell_type": "markdown",
   "metadata": {},
   "source": [
    "# **Exploratory Data Analysis**\n",
    "\n",
    "Exploratory Data Analysis (EDA) is the process of examining and visualizing \n",
    "datasets to uncover patterns, trends, and relationships within the data. It \n",
    "helps identify data characteristics such as distribution, outliers, missing \n",
    "values, and correlations, which inform decisions on data preprocessing and \n",
    "model selection. EDA is essential for gaining initial insights and guiding \n",
    "the next steps in the data science workflow.\n"
   ]
  },
  {
   "cell_type": "code",
   "execution_count": 5,
   "metadata": {},
   "outputs": [
    {
     "ename": "AttributeError",
     "evalue": "module 'ml' has no attribute 'setup_plotting'",
     "output_type": "error",
     "traceback": [
      "\u001b[1;31m---------------------------------------------------------------------------\u001b[0m",
      "\u001b[1;31mAttributeError\u001b[0m                            Traceback (most recent call last)",
      "Cell \u001b[1;32mIn[5], line 18\u001b[0m\n\u001b[0;32m     16\u001b[0m sys\u001b[38;5;241m.\u001b[39mpath\u001b[38;5;241m.\u001b[39mappend(\u001b[38;5;124m\"\u001b[39m\u001b[38;5;124m..\u001b[39m\u001b[38;5;124m\"\u001b[39m)\n\u001b[0;32m     17\u001b[0m \u001b[38;5;28;01mimport\u001b[39;00m \u001b[38;5;21;01mml\u001b[39;00m\n\u001b[1;32m---> 18\u001b[0m \u001b[43mml\u001b[49m\u001b[38;5;241;43m.\u001b[39;49m\u001b[43msetup_plotting\u001b[49m()\n",
      "\u001b[1;31mAttributeError\u001b[0m: module 'ml' has no attribute 'setup_plotting'"
     ]
    }
   ],
   "source": [
    "# ...business as usual... Let's set up the environment first.\n",
    "\n",
    "# Basic imports\n",
    "import pandas as pd\n",
    "import seaborn as sns\n",
    "import matplotlib.pyplot as plt\n",
    "\n",
    "# scikit-learn related imports\n",
    "from sklearn.datasets import load_iris, load_wine\n",
    "\n",
    "# Some Jupyter magic for nicer output\n",
    "%config InlineBackend.figure_formats = [\"svg\"]   # Enable vectorized graphics\n",
    "\n",
    "# Adjust the default settings\n",
    "import sys\n",
    "sys.path.append(\"..\")\n",
    "import ml\n",
    "ml.setup_plotting()"
   ]
  },
  {
   "cell_type": "markdown",
   "metadata": {},
   "source": [
    "## **Step 1: Load and inspect the data**\n",
    "\n",
    "In this notebook, we will explore the \"Wine\" dataset containing the results \n",
    "of a chemical analysis of wines derived from three different cultivars. \n",
    "The analysis determined the quantities of 13 constituents found in each of \n",
    "the three types of wines. \n",
    "\n",
    "The wine samples (rows of the dataframe) should be classified into three \n",
    "wine classes (0,1 and 2) based on the features in the dataset.\n",
    "\n",
    "In principle, you can use this notebook to explore also other datasets. \n",
    "Just replace the load_wine() function with the dataset loader of your choice..."
   ]
  },
  {
   "cell_type": "code",
   "execution_count": 3,
   "metadata": {},
   "outputs": [],
   "source": [
    "dataset = load_wine(as_frame=True)\n",
    "df = dataset.frame\n",
    "target_name = \"wine_class\"\n",
    "\n",
    "dataset = load_iris(as_frame=True)\n",
    "df = dataset.frame\n",
    "target_name = \"species\""
   ]
  },
  {
   "cell_type": "code",
   "execution_count": null,
   "metadata": {},
   "outputs": [],
   "source": [
    "# Display the df to get a first impression of the data!\n",
    "display(df)"
   ]
  },
  {
   "cell_type": "code",
   "execution_count": null,
   "metadata": {},
   "outputs": [],
   "source": [
    "# Display the summary statistics\n",
    "summary = df.describe()\n",
    "summary"
   ]
  },
  {
   "cell_type": "code",
   "execution_count": 6,
   "metadata": {},
   "outputs": [],
   "source": [
    "########################\n",
    "###    EXERCISE 1    ###\n",
    "########################\n",
    "\n",
    "# Answer the following questions:\n",
    "# 1) How many samples are there in the dataset?\n",
    "# 2) Which are the features of the dataset? How many are there?\n",
    "# 3) What is the target variable? What are the possible values?\n",
    "# 4) Which are the data types of the features?\n",
    "# 5) Are there any missing values?\n",
    "# 6) Are there any outliers?\n",
    "# 7) What type of problem is this? (Classification, regression, clustering, ... etc.?)"
   ]
  },
  {
   "cell_type": "markdown",
   "metadata": {},
   "source": [
    "## **Step 2: Visualize the data** \n",
    "\n",
    "The more we look at the data, the better we understand it. Let's visualize it!"
   ]
  },
  {
   "cell_type": "code",
   "execution_count": 8,
   "metadata": {},
   "outputs": [],
   "source": [
    "########################\n",
    "###    EXERCISE 1    ###\n",
    "########################\n",
    "\n",
    "# Create different visualizations to explore the dataset.\n",
    "# 1) Use histograms or violin plots to visualize the distribution of features\n",
    "# 2) Use a pairplot to explore the relationships between features\n",
    "# 3) Use a barplot to visualize the number of samples per class"
   ]
  },
  {
   "cell_type": "markdown",
   "metadata": {},
   "source": [
    "## **Step 3: Train a simple model**\n",
    "\n",
    "Here we train a logistic regression classifier on a training dataset \n",
    "(80% of data) and use it to predict the target classes of the test \n",
    "dataset (20% of data)."
   ]
  },
  {
   "cell_type": "code",
   "execution_count": 11,
   "metadata": {},
   "outputs": [],
   "source": [
    "########################\n",
    "###    EXERCISE 3    ###\n",
    "########################\n",
    "\n",
    "# Train and validate such a model as described above."
   ]
  },
  {
   "cell_type": "code",
   "execution_count": 13,
   "metadata": {},
   "outputs": [],
   "source": [
    "########################\n",
    "###    EXERCISE 4    ###\n",
    "########################\n",
    "\n",
    "# - Have a look at the available classification metrics in scikit-learn:\n",
    "#   https://scikit-learn.org/1.5/modules/model_evaluation.html#classification-metrics\n",
    "# - Compute a confusion matrix for the model and visualize it.\n",
    "# - Compute the classification report for the model and print it.\n"
   ]
  },
  {
   "cell_type": "markdown",
   "metadata": {},
   "source": [
    "## **Alernatives / automation**\n",
    "\n",
    "### **Automated summary using `skimpy`**\n",
    "\n",
    "[Skimpy](https://aeturrell.github.io/skimpy/) is a light-weight Python package for creating summary statistics from \n",
    "Pandas DataFrames. It can be seen as a supercharged version of df.describe()."
   ]
  },
  {
   "cell_type": "code",
   "execution_count": null,
   "metadata": {},
   "outputs": [],
   "source": [
    "# Make sure to previously install the skimpy package:\n",
    "# Just uncomment the following line and run the cell.\n",
    "# You may have to restart the kernel afterwards!\n",
    "\n",
    "# %pip install skimpy\n",
    "from skimpy import skim\n",
    "\n",
    "skim(df)"
   ]
  },
  {
   "cell_type": "markdown",
   "metadata": {},
   "source": [
    "### **Automated analysis using `ydata-profiling`**"
   ]
  },
  {
   "cell_type": "markdown",
   "metadata": {},
   "source": [
    "\n",
    "[ydata-profiling](https://docs.profiling.ydata.ai/latest/) is a Python \n",
    "package that provides a simple way to  automatically profile data and \n",
    "generate reports.\n"
   ]
  },
  {
   "cell_type": "code",
   "execution_count": null,
   "metadata": {},
   "outputs": [],
   "source": [
    "# Make sure to previously install the package.\n",
    "# %pip install -U ydata-profiling\n",
    "# You may have to restart the kernel afterwards!\n",
    "\n",
    "from ydata_profiling import ProfileReport\n",
    "profile = ProfileReport(df, \n",
    "                        title=\"OUR DATASET\", \n",
    "                        sort=None,\n",
    "                        sensitive=False,\n",
    "                        explorative=False)\n",
    "\n",
    "# Create and display the report\n",
    "profile.to_notebook_iframe()    # Integrate into a Jupyter notebook\n",
    "#profile.to_widgets()             # Integrate into a Jupyter notebook, compact\n",
    "#profile.to_file(\"output.html\")  # Save the report to a file\n",
    "profile"
   ]
  }
 ],
 "metadata": {
  "kernelspec": {
   "display_name": "venv",
   "language": "python",
   "name": "python3"
  },
  "language_info": {
   "codemirror_mode": {
    "name": "ipython",
    "version": 3
   },
   "file_extension": ".py",
   "mimetype": "text/x-python",
   "name": "python",
   "nbconvert_exporter": "python",
   "pygments_lexer": "ipython3",
   "version": "3.11.5"
  },
  "orig_nbformat": 4
 },
 "nbformat": 4,
 "nbformat_minor": 2
}
